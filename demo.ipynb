{
 "cells": [
  {
   "cell_type": "markdown",
   "metadata": {},
   "source": [
    "# Song Lyrics Web Scraper Demo\n",
    "\n",
    "In this project, I have built a simple web scraper library to collect and process song lyrics from [lyrics.com](http://lyrics.com). This project delivers:\n",
    "1. A set of functions necessary for scraping the lyrics of a specific artist\n",
    "2. An example implementation of using library functions in this Jupyter Notebook\n",
    "3. A file of example output from demo notebook (in a .csv file)\n",
    "\n",
    "The web scraper is able to grab all songs of an artist the user defines, and info about each song, including __album name__, __song title__, __lyrics URL__, __lyrics__, __song word count__, and __most common non-stop word__. \n",
    "\n",
    "*Scraping data*:\n",
    "* Given an artist, identifies all of their albums, songs, and links to songs\n",
    "* Given a set of song links, collects the lyrics to each song \n",
    "\n",
    "*Processing data*:\n",
    "* Counts the number of words in each song\n",
    "* Identifies the most common word that is not a \"stop word\""
   ]
  },
  {
   "cell_type": "markdown",
   "metadata": {},
   "source": [
    "## Demo"
   ]
  },
  {
   "cell_type": "code",
   "execution_count": 1,
   "metadata": {},
   "outputs": [],
   "source": [
    "import lyrics as l"
   ]
  },
  {
   "cell_type": "code",
   "execution_count": 2,
   "metadata": {},
   "outputs": [],
   "source": [
    "# Get songs given an artist\n",
    "artist = 'Adele'\n",
    "songs = l.get_songs(artist) "
   ]
  },
  {
   "cell_type": "code",
   "execution_count": 3,
   "metadata": {},
   "outputs": [],
   "source": [
    "# Get song info\n",
    "song_info = l.get_song_info(songs, artist)"
   ]
  },
  {
   "cell_type": "code",
   "execution_count": 4,
   "metadata": {},
   "outputs": [
    {
     "name": "stdout",
     "output_type": "stream",
     "text": [
      "Hello by Adele \n",
      "\n",
      "####################\n",
      "Album name: 25 [LP]\n",
      "Most common word: I\n",
      "Lyric word count:  333\n",
      "URL:  https://www.lyrics.com/lyric/32298025/Adele/Hello\n",
      "################### \n",
      "\n",
      "Hello, it's me\n",
      "I was wondering if after all these years you'd like to meet\n",
      "To go over everything\n",
      "They say that time's supposed to heal ya, but I ain't done much healing\n",
      "Hello, can you hear me?\n",
      "I'm in California dreaming about who we used to be\n",
      "When we were younger and free\n",
      "I've forgotten how it felt before the world fell at our feet\n",
      "\n",
      "There's such a difference between us\n",
      "And a million miles\n",
      "\n",
      "Hello from the other side\n",
      "I must've called a thousand times\n",
      "To tell you I'm sorry for everything that I've done\n",
      "But when I call, you never seem to be home\n",
      "Hello from the outside\n",
      "At least I can say that I've tried\n",
      "To tell you I'm sorry for breaking your heart\n",
      "But it don't matter, it clearly doesn't tear you apart anymore\n",
      "\n",
      "Hello, how are you?\n",
      "It's so typical of me to talk about myself, I'm sorry\n",
      "I hope that you're well\n",
      "Did you ever make it out of that town where nothing ever happened?\n",
      "\n",
      "It's no secret that the both of us\n",
      "Are running out of time\n",
      "\n",
      "So hello from the other side (other side)\n",
      "I must've called a thousand times (thousand times)\n",
      "To tell you I'm sorry for everything that I've done\n",
      "But when I call, you never seem to be home\n",
      "Hello from the outside (outside)\n",
      "At least I can say that I've tried (I've tried)\n",
      "To tell you I'm sorry for breaking your heart\n",
      "But it don't matter, it clearly doesn't tear you apart anymore\n",
      "\n",
      "Ooh, anymore\n",
      "Ooh, anymore\n",
      "Ooh, anymore\n",
      "Anymore\n",
      "\n",
      "Hello from the other side (other side)\n",
      "I must've called a thousand times (thousand times)\n",
      "To tell you I'm sorry for everything that I've done\n",
      "But when I call, you never seem to be home\n",
      "Hello from the outside (outside)\n",
      "At least I can say that I've tried (I've tried)\n",
      "To tell you I'm sorry for breaking your heart\n",
      "But it don't matter, it clearly doesn't tear you apart anymore\n"
     ]
    }
   ],
   "source": [
    "print('{} by {} \\n'.format(song_info[1]['title'], artist))\n",
    "print('####################')\n",
    "print('Album name:', song_info[1]['album'])\n",
    "print('Most common word:', song_info[1]['most_common'])\n",
    "print('Lyric word count: ', song_info[1]['wordcount'])\n",
    "print('URL: ', song_info[1]['url'])\n",
    "print('################### \\n')\n",
    "\n",
    "print(song_info[1]['lyrics'])"
   ]
  },
  {
   "cell_type": "code",
   "execution_count": 5,
   "metadata": {},
   "outputs": [],
   "source": [
    "# Save data -- uses artist name in the .csv file\n",
    "l.save_data(song_info, artist)"
   ]
  }
 ],
 "metadata": {
  "kernelspec": {
   "display_name": "Python 3",
   "language": "python",
   "name": "python3"
  },
  "language_info": {
   "codemirror_mode": {
    "name": "ipython",
    "version": 3
   },
   "file_extension": ".py",
   "mimetype": "text/x-python",
   "name": "python",
   "nbconvert_exporter": "python",
   "pygments_lexer": "ipython3",
   "version": "3.7.6"
  }
 },
 "nbformat": 4,
 "nbformat_minor": 2
}
